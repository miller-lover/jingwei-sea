{
 "cells": [
  {
   "cell_type": "code",
   "execution_count": 391,
   "metadata": {
    "collapsed": true
   },
   "outputs": [],
   "source": [
    "import numpy as np"
   ]
  },
  {
   "cell_type": "code",
   "execution_count": 392,
   "metadata": {
    "collapsed": true
   },
   "outputs": [],
   "source": [
    "### Data Processing Using Arrays"
   ]
  },
  {
   "cell_type": "code",
   "execution_count": 393,
   "metadata": {
    "collapsed": true
   },
   "outputs": [],
   "source": [
    "points = np.arange(-5, 5 ,0.01)"
   ]
  },
  {
   "cell_type": "code",
   "execution_count": 394,
   "metadata": {
    "collapsed": true
   },
   "outputs": [],
   "source": [
    "xs, ys = np.meshgrid(points, points)"
   ]
  },
  {
   "cell_type": "code",
   "execution_count": 395,
   "metadata": {
    "collapsed": false
   },
   "outputs": [
    {
     "data": {
      "text/plain": [
       "(array([[-5.  , -4.99, -4.98, ...,  4.97,  4.98,  4.99],\n",
       "        [-5.  , -4.99, -4.98, ...,  4.97,  4.98,  4.99],\n",
       "        [-5.  , -4.99, -4.98, ...,  4.97,  4.98,  4.99],\n",
       "        ..., \n",
       "        [-5.  , -4.99, -4.98, ...,  4.97,  4.98,  4.99],\n",
       "        [-5.  , -4.99, -4.98, ...,  4.97,  4.98,  4.99],\n",
       "        [-5.  , -4.99, -4.98, ...,  4.97,  4.98,  4.99]]),\n",
       " array([[-5.  , -5.  , -5.  , ..., -5.  , -5.  , -5.  ],\n",
       "        [-4.99, -4.99, -4.99, ..., -4.99, -4.99, -4.99],\n",
       "        [-4.98, -4.98, -4.98, ..., -4.98, -4.98, -4.98],\n",
       "        ..., \n",
       "        [ 4.97,  4.97,  4.97, ...,  4.97,  4.97,  4.97],\n",
       "        [ 4.98,  4.98,  4.98, ...,  4.98,  4.98,  4.98],\n",
       "        [ 4.99,  4.99,  4.99, ...,  4.99,  4.99,  4.99]]),\n",
       " (1000, 1000),\n",
       " (1000, 1000))"
      ]
     },
     "execution_count": 395,
     "metadata": {},
     "output_type": "execute_result"
    }
   ],
   "source": [
    "xs, ys, xs.shape, ys.shape"
   ]
  },
  {
   "cell_type": "code",
   "execution_count": 396,
   "metadata": {
    "collapsed": true
   },
   "outputs": [],
   "source": [
    "nx, ny = (3, 2)"
   ]
  },
  {
   "cell_type": "code",
   "execution_count": 397,
   "metadata": {
    "collapsed": false
   },
   "outputs": [
    {
     "data": {
      "text/plain": [
       "(array([ 0. ,  0.5,  1. ]), array([ 0.,  1.]))"
      ]
     },
     "execution_count": 397,
     "metadata": {},
     "output_type": "execute_result"
    }
   ],
   "source": [
    "x = np.linspace(0, 1, nx)\n",
    "y = np.linspace(0, 1, ny)\n",
    "x, y"
   ]
  },
  {
   "cell_type": "code",
   "execution_count": 398,
   "metadata": {
    "collapsed": false
   },
   "outputs": [
    {
     "data": {
      "text/plain": [
       "(array([[ 0. ,  0.5,  1. ],\n",
       "        [ 0. ,  0.5,  1. ]]), array([[ 0.,  0.,  0.],\n",
       "        [ 1.,  1.,  1.]]))"
      ]
     },
     "execution_count": 398,
     "metadata": {},
     "output_type": "execute_result"
    }
   ],
   "source": [
    "xv, yv = np.meshgrid(x ,y)\n",
    "xv, yv"
   ]
  },
  {
   "cell_type": "code",
   "execution_count": 399,
   "metadata": {
    "collapsed": true
   },
   "outputs": [],
   "source": [
    "import matplotlib.pyplot as plt"
   ]
  },
  {
   "cell_type": "code",
   "execution_count": 400,
   "metadata": {
    "collapsed": false
   },
   "outputs": [
    {
     "data": {
      "text/plain": [
       "(1000, 1000)"
      ]
     },
     "execution_count": 400,
     "metadata": {},
     "output_type": "execute_result"
    }
   ],
   "source": [
    "z = np.sqrt(xs ** 2 + ys ** 2)\n",
    "z.shape"
   ]
  },
  {
   "cell_type": "code",
   "execution_count": 401,
   "metadata": {
    "collapsed": true
   },
   "outputs": [],
   "source": [
    "%matplotlib inline"
   ]
  },
  {
   "cell_type": "code",
   "execution_count": 402,
   "metadata": {
    "collapsed": false
   },
   "outputs": [
    {
     "data": {
      "text/plain": [
       "<matplotlib.text.Text at 0x10923668>"
      ]
     },
     "execution_count": 402,
     "metadata": {},
     "output_type": "execute_result"
    },
    {
     "data": {
      "image/png": "[encoded data removed]",
      "text/plain": [
       "<matplotlib.figure.Figure at 0x108dfcf8>"
      ]
     },
     "metadata": {},
     "output_type": "display_data"
    }
   ],
   "source": [
    "plt.imshow(z, cmap=plt.cm.gray); plt.colorbar()\n",
    "plt.title(\"Image plot of $\\sqrt{x^2 + y^2}$ for a grid of values\")"
   ]
  },
  {
   "cell_type": "code",
   "execution_count": 403,
   "metadata": {
    "collapsed": true
   },
   "outputs": [],
   "source": [
    "### Expressing Conditional Logic as Array Operations"
   ]
  },
  {
   "cell_type": "code",
   "execution_count": 404,
   "metadata": {
    "collapsed": true
   },
   "outputs": [],
   "source": [
    "xarr = np.array([1.1, 1.2, 1.3, 1.4, 1.5])"
   ]
  },
  {
   "cell_type": "code",
   "execution_count": 405,
   "metadata": {
    "collapsed": true
   },
   "outputs": [],
   "source": [
    "yarr = np.array([2.1, 2.2, 2.3, 2.4, 2.5])"
   ]
  },
  {
   "cell_type": "code",
   "execution_count": 406,
   "metadata": {
    "collapsed": true
   },
   "outputs": [],
   "source": [
    "cond = np.array([True, False, True, True, False])"
   ]
  },
  {
   "cell_type": "code",
   "execution_count": 407,
   "metadata": {
    "collapsed": false
   },
   "outputs": [
    {
     "data": {
      "text/plain": [
       "[1.1000000000000001, 2.2000000000000002, 1.3, 1.3999999999999999, 2.5]"
      ]
     },
     "execution_count": 407,
     "metadata": {},
     "output_type": "execute_result"
    }
   ],
   "source": [
    "result = [(x if c else y) for x,y,c in zip(xarr, yarr, cond)]\n",
    "result"
   ]
  },
  {
   "cell_type": "code",
   "execution_count": 408,
   "metadata": {
    "collapsed": true
   },
   "outputs": [],
   "source": [
    "result = np.where(cond, xarr, yarr)"
   ]
  },
  {
   "cell_type": "code",
   "execution_count": 409,
   "metadata": {
    "collapsed": false
   },
   "outputs": [
    {
     "data": {
      "text/plain": [
       "array([ 1.1,  2.2,  1.3,  1.4,  2.5])"
      ]
     },
     "execution_count": 409,
     "metadata": {},
     "output_type": "execute_result"
    }
   ],
   "source": [
    "result"
   ]
  },
  {
   "cell_type": "code",
   "execution_count": 410,
   "metadata": {
    "collapsed": false
   },
   "outputs": [
    {
     "data": {
      "text/plain": [
       "array([[ 0.89719068, -0.59082067,  0.08638771, -0.40744453],\n",
       "       [-1.43860789,  0.64118068, -0.1174959 ,  0.29982887],\n",
       "       [-0.91917278, -1.16851849, -2.2336861 ,  0.59057909],\n",
       "       [-0.05189616,  0.78495099,  2.31168333,  0.05792402]])"
      ]
     },
     "execution_count": 410,
     "metadata": {},
     "output_type": "execute_result"
    }
   ],
   "source": [
    "arr = np.random.randn(4,4)\n",
    "arr"
   ]
  },
  {
   "cell_type": "code",
   "execution_count": 411,
   "metadata": {
    "collapsed": false
   },
   "outputs": [
    {
     "data": {
      "text/plain": [
       "array([[ 2, -2,  2, -2],\n",
       "       [-2,  2, -2,  2],\n",
       "       [-2, -2, -2,  2],\n",
       "       [-2,  2,  2,  2]])"
      ]
     },
     "execution_count": 411,
     "metadata": {},
     "output_type": "execute_result"
    }
   ],
   "source": [
    "np.where(arr > 0, 2, -2)"
   ]
  },
  {
   "cell_type": "code",
   "execution_count": 412,
   "metadata": {
    "collapsed": false
   },
   "outputs": [
    {
     "data": {
      "text/plain": [
       "array([[ 2.        , -0.59082067,  2.        , -0.40744453],\n",
       "       [-1.43860789,  2.        , -0.1174959 ,  2.        ],\n",
       "       [-0.91917278, -1.16851849, -2.2336861 ,  2.        ],\n",
       "       [-0.05189616,  2.        ,  2.        ,  2.        ]])"
      ]
     },
     "execution_count": 412,
     "metadata": {},
     "output_type": "execute_result"
    }
   ],
   "source": [
    "np.where(arr > 0, 2, arr)"
   ]
  },
  {
   "cell_type": "code",
   "execution_count": 413,
   "metadata": {
    "collapsed": true
   },
   "outputs": [],
   "source": [
    "cond1 = np.array([True, False, True, True, False])\n",
    "cond2 = np.array([True, True, False, True, True])"
   ]
  },
  {
   "cell_type": "code",
   "execution_count": 414,
   "metadata": {
    "collapsed": false
   },
   "outputs": [
    {
     "data": {
      "text/plain": [
       "array([0, 2, 1, 0, 2])"
      ]
     },
     "execution_count": 414,
     "metadata": {},
     "output_type": "execute_result"
    }
   ],
   "source": [
    "np.where(cond1&cond2, 0, np.where(cond1, 1, np.where(cond2, 2, 3)))"
   ]
  },
  {
   "cell_type": "code",
   "execution_count": 415,
   "metadata": {
    "collapsed": false
   },
   "outputs": [
    {
     "data": {
      "text/plain": [
       "array([0, 2, 1, 0, 2])"
      ]
     },
     "execution_count": 415,
     "metadata": {},
     "output_type": "execute_result"
    }
   ],
   "source": [
    "1 * (cond1&~cond2) + 2 * (cond2&~cond1) + 3 * ~(cond1|cond2)"
   ]
  },
  {
   "cell_type": "code",
   "execution_count": 416,
   "metadata": {
    "collapsed": false
   },
   "outputs": [
    {
     "data": {
      "text/plain": [
       "(True, False)"
      ]
     },
     "execution_count": 416,
     "metadata": {},
     "output_type": "execute_result"
    }
   ],
   "source": [
    "cond.any(),cond.all()"
   ]
  },
  {
   "cell_type": "code",
   "execution_count": 417,
   "metadata": {
    "collapsed": true
   },
   "outputs": [],
   "source": [
    "### Mathematical and Statistical Methods"
   ]
  },
  {
   "cell_type": "code",
   "execution_count": 418,
   "metadata": {
    "collapsed": false
   },
   "outputs": [],
   "source": [
    "arr = np.random.randn(5, 4)"
   ]
  },
  {
   "cell_type": "code",
   "execution_count": 419,
   "metadata": {
    "collapsed": false
   },
   "outputs": [
    {
     "data": {
      "text/plain": [
       "(0.078735775455800766, 0.078735775455800766)"
      ]
     },
     "execution_count": 419,
     "metadata": {},
     "output_type": "execute_result"
    }
   ],
   "source": [
    "arr.mean(), np.mean(arr)"
   ]
  },
  {
   "cell_type": "code",
   "execution_count": 420,
   "metadata": {
    "collapsed": false
   },
   "outputs": [
    {
     "data": {
      "text/plain": [
       "(1.5747155091160154, 1.5747155091160154)"
      ]
     },
     "execution_count": 420,
     "metadata": {},
     "output_type": "execute_result"
    }
   ],
   "source": [
    "arr.sum(), np.sum(arr)"
   ]
  },
  {
   "cell_type": "code",
   "execution_count": 421,
   "metadata": {
    "collapsed": false
   },
   "outputs": [
    {
     "data": {
      "text/plain": [
       "(array([-0.0590002 , -0.11319965, -0.01009554,  0.58240973, -0.00643546]),\n",
       " array([-0.0590002 , -0.11319965, -0.01009554,  0.58240973, -0.00643546]))"
      ]
     },
     "execution_count": 421,
     "metadata": {},
     "output_type": "execute_result"
    }
   ],
   "source": [
    "arr.mean(1), arr.mean(axis = 1)"
   ]
  },
  {
   "cell_type": "code",
   "execution_count": 422,
   "metadata": {
    "collapsed": false
   },
   "outputs": [],
   "source": [
    "arr = np.array([[0 ,1, 2], [3, 4, 5], [6, 7, 8]])"
   ]
  },
  {
   "cell_type": "code",
   "execution_count": 423,
   "metadata": {
    "collapsed": false
   },
   "outputs": [
    {
     "data": {
      "text/plain": [
       "(array([[ 0,  1,  2],\n",
       "        [ 3,  5,  7],\n",
       "        [ 9, 12, 15]], dtype=int32), array([[ 0,  1,  3],\n",
       "        [ 3,  7, 12],\n",
       "        [ 6, 13, 21]], dtype=int32))"
      ]
     },
     "execution_count": 423,
     "metadata": {},
     "output_type": "execute_result"
    }
   ],
   "source": [
    "arr.cumsum(0), arr.cumsum(1)"
   ]
  },
  {
   "cell_type": "code",
   "execution_count": 424,
   "metadata": {
    "collapsed": false
   },
   "outputs": [
    {
     "data": {
      "text/plain": [
       "(array([[ 0,  1,  2],\n",
       "        [ 0,  4, 10],\n",
       "        [ 0, 28, 80]], dtype=int32), array([[  0,   0,   0],\n",
       "        [  3,  12,  60],\n",
       "        [  6,  42, 336]], dtype=int32))"
      ]
     },
     "execution_count": 424,
     "metadata": {},
     "output_type": "execute_result"
    }
   ],
   "source": [
    "arr.cumprod(0), arr.cumprod(1)"
   ]
  },
  {
   "cell_type": "code",
   "execution_count": 425,
   "metadata": {
    "collapsed": false
   },
   "outputs": [
    {
     "data": {
      "text/plain": [
       "(8, 0)"
      ]
     },
     "execution_count": 425,
     "metadata": {},
     "output_type": "execute_result"
    }
   ],
   "source": [
    "np.argmax(arr), np.argmin(arr)"
   ]
  },
  {
   "cell_type": "code",
   "execution_count": 426,
   "metadata": {
    "collapsed": false
   },
   "outputs": [
    {
     "data": {
      "text/plain": [
       "(2.5819888974716112, 6.666666666666667)"
      ]
     },
     "execution_count": 426,
     "metadata": {},
     "output_type": "execute_result"
    }
   ],
   "source": [
    "np.std(arr), np.var(arr)"
   ]
  },
  {
   "cell_type": "code",
   "execution_count": 427,
   "metadata": {
    "collapsed": true
   },
   "outputs": [],
   "source": [
    "### Sorting"
   ]
  },
  {
   "cell_type": "code",
   "execution_count": 428,
   "metadata": {
    "collapsed": false
   },
   "outputs": [
    {
     "data": {
      "text/plain": [
       "array([-0.77807854, -0.16904977,  1.51955449,  0.52692534, -0.03035838,\n",
       "        2.91852312,  0.72604482,  1.8828415 ])"
      ]
     },
     "execution_count": 428,
     "metadata": {},
     "output_type": "execute_result"
    }
   ],
   "source": [
    "arr = np.random.randn(8)\n",
    "arr"
   ]
  },
  {
   "cell_type": "code",
   "execution_count": 429,
   "metadata": {
    "collapsed": false
   },
   "outputs": [
    {
     "data": {
      "text/plain": [
       "array([-0.77807854, -0.16904977, -0.03035838,  0.52692534,  0.72604482,\n",
       "        1.51955449,  1.8828415 ,  2.91852312])"
      ]
     },
     "execution_count": 429,
     "metadata": {},
     "output_type": "execute_result"
    }
   ],
   "source": [
    "arr.sort()\n",
    "arr"
   ]
  },
  {
   "cell_type": "code",
   "execution_count": 430,
   "metadata": {
    "collapsed": false
   },
   "outputs": [
    {
     "data": {
      "text/plain": [
       "array([[-2.52373145, -1.03623257, -0.66977315],\n",
       "       [-0.87224341, -0.62378542, -0.56482426],\n",
       "       [-0.54323473, -0.46871958, -0.26920322],\n",
       "       [-0.387282  , -0.02238543,  0.37969673],\n",
       "       [ 0.20922251,  0.43673629,  0.61680093],\n",
       "       [ 0.63805486,  0.69349725,  0.69511149],\n",
       "       [ 0.7048379 ,  0.7496964 ,  0.92688127],\n",
       "       [ 1.76120777,  1.91741846,  1.95971845]])"
      ]
     },
     "execution_count": 430,
     "metadata": {},
     "output_type": "execute_result"
    }
   ],
   "source": [
    "arr = np.random.randn(8, 3)\n",
    "sort_arr = np.sort(np.sort(arr, 0), 1)\n",
    "sort_arr"
   ]
  },
  {
   "cell_type": "code",
   "execution_count": 431,
   "metadata": {
    "collapsed": false
   },
   "outputs": [
    {
     "data": {
      "text/plain": [
       "array([[ True,  True, False],\n",
       "       [ True, False, False],\n",
       "       [False, False, False],\n",
       "       [False, False, False],\n",
       "       [False, False, False],\n",
       "       [False, False, False],\n",
       "       [False, False, False],\n",
       "       [False, False,  True]], dtype=bool)"
      ]
     },
     "execution_count": 431,
     "metadata": {},
     "output_type": "execute_result"
    }
   ],
   "source": [
    "np.sort(np.sort(arr, 0), 1) == np.sort(np.sort(arr, 1), 0)"
   ]
  },
  {
   "cell_type": "code",
   "execution_count": 432,
   "metadata": {
    "collapsed": false
   },
   "outputs": [],
   "source": [
    "arr1 = np.array([[3,1],[2,4]])\n",
    "arr2 = np.array([[3,1],[2,4]])"
   ]
  },
  {
   "cell_type": "code",
   "execution_count": 433,
   "metadata": {
    "collapsed": false
   },
   "outputs": [
    {
     "data": {
      "text/plain": [
       "(array([[1, 2],\n",
       "        [3, 4]]), array([[1, 3],\n",
       "        [2, 4]]))"
      ]
     },
     "execution_count": 433,
     "metadata": {},
     "output_type": "execute_result"
    }
   ],
   "source": [
    "arr1.sort(0);arr1.sort(1)\n",
    "arr2.sort(1);arr2.sort(0)\n",
    "arr1, arr2"
   ]
  },
  {
   "cell_type": "code",
   "execution_count": 434,
   "metadata": {
    "collapsed": true
   },
   "outputs": [],
   "source": [
    "### Unique and other set logic"
   ]
  },
  {
   "cell_type": "code",
   "execution_count": 435,
   "metadata": {
    "collapsed": false
   },
   "outputs": [
    {
     "data": {
      "text/plain": [
       "array(['Bob', 'Joe', 'Will'], \n",
       "      dtype='<U4')"
      ]
     },
     "execution_count": 435,
     "metadata": {},
     "output_type": "execute_result"
    }
   ],
   "source": [
    "names = np.array(['Bob', 'Joe', 'Will', 'Bob', 'Will', 'Joe', 'Joe'])\n",
    "np.unique(names)"
   ]
  },
  {
   "cell_type": "code",
   "execution_count": 436,
   "metadata": {
    "collapsed": false
   },
   "outputs": [
    {
     "data": {
      "text/plain": [
       "['Bob', 'Joe', 'Will']"
      ]
     },
     "execution_count": 436,
     "metadata": {},
     "output_type": "execute_result"
    }
   ],
   "source": [
    "sorted(set(names))"
   ]
  },
  {
   "cell_type": "code",
   "execution_count": 437,
   "metadata": {
    "collapsed": false
   },
   "outputs": [
    {
     "data": {
      "text/plain": [
       "array([ True, False, False,  True,  True, False,  True], dtype=bool)"
      ]
     },
     "execution_count": 437,
     "metadata": {},
     "output_type": "execute_result"
    }
   ],
   "source": [
    "values = np.array([6, 0, 0, 3, 2, 5, 6])\n",
    "\n",
    "np.in1d(values, [2, 3, 6])"
   ]
  },
  {
   "cell_type": "code",
   "execution_count": 438,
   "metadata": {
    "collapsed": false
   },
   "outputs": [
    {
     "data": {
      "text/plain": [
       "'\\nunique(x) Compute the sorted, unique elements in x\\nintersect1d(x, y) Compute the sorted, common elements in x and y\\nunion1d(x, y) Compute the sorted union of elements\\nin1d(x, y) Compute a boolean array indicating whether each element of x is contained in y\\nsetdiff1d(x, y) Set difference, elements in x that are not in y\\nsetxor1d(x, y) Set symmetric differences; elements that are in either of the arrays, but not both\\n'"
      ]
     },
     "execution_count": 438,
     "metadata": {},
     "output_type": "execute_result"
    }
   ],
   "source": [
    "'''\n",
    "unique(x) Compute the sorted, unique elements in x\n",
    "intersect1d(x, y) Compute the sorted, common elements in x and y\n",
    "union1d(x, y) Compute the sorted union of elements\n",
    "in1d(x, y) Compute a boolean array indicating whether each element of x is contained in y\n",
    "setdiff1d(x, y) Set difference, elements in x that are not in y\n",
    "setxor1d(x, y) Set symmetric differences; elements that are in either of the arrays, but not both\n",
    "'''"
   ]
  },
  {
   "cell_type": "code",
   "execution_count": 439,
   "metadata": {
    "collapsed": true
   },
   "outputs": [],
   "source": [
    "### Linear Algebra"
   ]
  },
  {
   "cell_type": "code",
   "execution_count": 440,
   "metadata": {
    "collapsed": true
   },
   "outputs": [],
   "source": [
    "x = np.array([[1., 2., 3.], [4., 5., 6.]])\n",
    "y = np.array([[6., 23.], [-1, 7], [8, 9]])"
   ]
  },
  {
   "cell_type": "code",
   "execution_count": 441,
   "metadata": {
    "collapsed": false
   },
   "outputs": [
    {
     "data": {
      "text/plain": [
       "array([[  28.,   64.],\n",
       "       [  67.,  181.]])"
      ]
     },
     "execution_count": 441,
     "metadata": {},
     "output_type": "execute_result"
    }
   ],
   "source": [
    "x.dot(y)"
   ]
  },
  {
   "cell_type": "code",
   "execution_count": 442,
   "metadata": {
    "collapsed": false
   },
   "outputs": [
    {
     "data": {
      "text/plain": [
       "array([[  28.,   64.],\n",
       "       [  67.,  181.]])"
      ]
     },
     "execution_count": 442,
     "metadata": {},
     "output_type": "execute_result"
    }
   ],
   "source": [
    "np.dot(x,y)"
   ]
  },
  {
   "cell_type": "code",
   "execution_count": 443,
   "metadata": {
    "collapsed": false
   },
   "outputs": [
    {
     "data": {
      "text/plain": [
       "array([  6.,  15.])"
      ]
     },
     "execution_count": 443,
     "metadata": {},
     "output_type": "execute_result"
    }
   ],
   "source": [
    "np.dot(x, np.ones(3))"
   ]
  },
  {
   "cell_type": "code",
   "execution_count": 444,
   "metadata": {
    "collapsed": true
   },
   "outputs": [],
   "source": [
    "from numpy.linalg import inv, qr"
   ]
  },
  {
   "cell_type": "code",
   "execution_count": 445,
   "metadata": {
    "collapsed": false
   },
   "outputs": [
    {
     "data": {
      "text/plain": [
       "array([[ 0.83446316,  0.60659635,  1.92971243,  1.16415872,  1.01773482],\n",
       "       [-0.09882387, -0.91500098,  0.6454825 , -0.95251268,  0.53225447],\n",
       "       [-0.58681906,  0.30716669,  1.00049562,  1.6247212 ,  0.89281885],\n",
       "       [-0.23930454, -0.58032391, -0.38393602, -0.65411855,  0.70856148],\n",
       "       [ 0.6126028 ,  0.53907545, -0.21219374, -0.82998365,  0.09879829]])"
      ]
     },
     "execution_count": 445,
     "metadata": {},
     "output_type": "execute_result"
    }
   ],
   "source": [
    "X = np.random.randn(5, 5)\n",
    "X"
   ]
  },
  {
   "cell_type": "code",
   "execution_count": 446,
   "metadata": {
    "collapsed": false
   },
   "outputs": [
    {
     "data": {
      "text/plain": [
       "array([[ 1.48300039,  0.88546825,  0.92126211, -0.23975559,  0.16370178],\n",
       "       [ 0.88546825,  1.92691548,  0.99567715,  2.00896153,  0.04664964],\n",
       "       [ 0.92126211,  0.99567715,  5.33386227,  3.68444472,  2.90775118],\n",
       "       [-0.23975559,  2.00896153,  3.68444472,  6.01900882,  1.58292326],\n",
       "       [ 0.16370178,  0.04664964,  2.90775118,  1.58292326,  2.62802497]])"
      ]
     },
     "execution_count": 446,
     "metadata": {},
     "output_type": "execute_result"
    }
   ],
   "source": [
    "mat = X.T.dot(X)\n",
    "mat"
   ]
  },
  {
   "cell_type": "code",
   "execution_count": 447,
   "metadata": {
    "collapsed": false
   },
   "outputs": [
    {
     "data": {
      "text/plain": [
       "array([[ 5.29862098, -4.21827419, -2.7645008 ,  3.05839458,  0.96143069],\n",
       "       [-4.21827419,  4.24645247,  2.07963857, -2.7359063 , -0.46571029],\n",
       "       [-2.7645008 ,  2.07963857,  2.18407211, -1.8313333 , -1.17819995],\n",
       "       [ 3.05839458, -2.7359063 , -1.8313333 ,  2.17039862,  0.57703086],\n",
       "       [ 0.96143069, -0.46571029, -1.17819995,  0.57703086,  1.28493986]])"
      ]
     },
     "execution_count": 447,
     "metadata": {},
     "output_type": "execute_result"
    }
   ],
   "source": [
    "inv(mat)"
   ]
  },
  {
   "cell_type": "code",
   "execution_count": 448,
   "metadata": {
    "collapsed": false
   },
   "outputs": [
    {
     "data": {
      "text/plain": [
       "array([[  1.00000000e+00,  -9.02056208e-16,   3.88578059e-16,\n",
       "         -1.52655666e-16,   2.22044605e-16],\n",
       "       [ -7.35522754e-16,   1.00000000e+00,   1.56819002e-15,\n",
       "         -1.80411242e-15,   2.08166817e-16],\n",
       "       [  8.88178420e-16,  -1.55431223e-15,   1.00000000e+00,\n",
       "          1.99840144e-15,   0.00000000e+00],\n",
       "       [  5.10702591e-15,   4.21884749e-15,   1.99840144e-15,\n",
       "          1.00000000e+00,  -4.44089210e-16],\n",
       "       [  4.44089210e-16,  -8.88178420e-16,   0.00000000e+00,\n",
       "          2.22044605e-16,   1.00000000e+00]])"
      ]
     },
     "execution_count": 448,
     "metadata": {},
     "output_type": "execute_result"
    }
   ],
   "source": [
    "mat.dot(inv(mat))"
   ]
  },
  {
   "cell_type": "code",
   "execution_count": 449,
   "metadata": {
    "collapsed": false
   },
   "outputs": [
    {
     "data": {
      "text/plain": [
       "(array([[-0.74937736,  0.16743263,  0.19537466, -0.40918057,  0.45254821],\n",
       "        [-0.44743741, -0.44993692,  0.43456329,  0.60038132, -0.21921118],\n",
       "        [-0.46552447, -0.07124301, -0.6766628 , -0.11303769, -0.55458213],\n",
       "        [ 0.12115129, -0.87347545, -0.15503482, -0.35292374,  0.2716101 ],\n",
       "        [-0.08272041,  0.03857664, -0.53951381,  0.57860249,  0.60482492]]),\n",
       " array([[-1.97897678, -1.74970661, -3.41307473, -1.83614571, -1.52279464],\n",
       "        [ 0.        , -2.54264816, -3.77984371, -6.40293238, -1.48200157],\n",
       "        [ 0.        ,  0.        , -5.13653928, -3.4541128 , -3.57857562],\n",
       "        [ 0.        ,  0.        ,  0.        , -0.32060256,  0.59426911],\n",
       "        [ 0.        ,  0.        ,  0.        ,  0.        ,  0.4707029 ]]))"
      ]
     },
     "execution_count": 449,
     "metadata": {},
     "output_type": "execute_result"
    }
   ],
   "source": [
    "q, r = qr(mat)\n",
    "q, r"
   ]
  },
  {
   "cell_type": "code",
   "execution_count": 450,
   "metadata": {
    "collapsed": false
   },
   "outputs": [
    {
     "data": {
      "text/plain": [
       "(array([[-0.74937736, -0.44743741, -0.46552447,  0.12115129, -0.08272041],\n",
       "        [ 0.16743263, -0.44993692, -0.07124301, -0.87347545,  0.03857664],\n",
       "        [ 0.19537466,  0.43456329, -0.6766628 , -0.15503482, -0.53951381],\n",
       "        [-0.40918057,  0.60038132, -0.11303769, -0.35292374,  0.57860249],\n",
       "        [ 0.45254821, -0.21921118, -0.55458213,  0.2716101 ,  0.60482492]]),\n",
       " array([[-0.74937736, -0.44743741, -0.46552447,  0.12115129, -0.08272041],\n",
       "        [ 0.16743263, -0.44993692, -0.07124301, -0.87347545,  0.03857664],\n",
       "        [ 0.19537466,  0.43456329, -0.6766628 , -0.15503482, -0.53951381],\n",
       "        [-0.40918057,  0.60038132, -0.11303769, -0.35292374,  0.57860249],\n",
       "        [ 0.45254821, -0.21921118, -0.55458213,  0.2716101 ,  0.60482492]]))"
      ]
     },
     "execution_count": 450,
     "metadata": {},
     "output_type": "execute_result"
    }
   ],
   "source": [
    "q.T, inv(q)"
   ]
  },
  {
   "cell_type": "code",
   "execution_count": 451,
   "metadata": {
    "collapsed": true
   },
   "outputs": [],
   "source": [
    "A = np.array([[1, 0.5], [0.5, 1]])"
   ]
  },
  {
   "cell_type": "code",
   "execution_count": 452,
   "metadata": {
    "collapsed": false
   },
   "outputs": [
    {
     "data": {
      "text/plain": [
       "(array([[  1.50000000e+00,   1.69350878e-05],\n",
       "        [  1.69350878e-05,   5.00000000e-01]]),\n",
       " array([[ -1.00000000e+00,  -1.12900585e-05],\n",
       "        [ -1.12900585e-05,   1.00000000e+00]]),\n",
       " array([[ -1.50000000e+00,  -2.25801171e-05],\n",
       "        [  0.00000000e+00,   5.00000000e-01]]))"
      ]
     },
     "execution_count": 452,
     "metadata": {},
     "output_type": "execute_result"
    }
   ],
   "source": [
    "# eigenvalue 1.5, 0.5\n",
    "for i in range(10):\n",
    "    q, r = qr(A)\n",
    "    A = r.dot(q)\n",
    "q, r = qr(A)\n",
    "A, q ,r"
   ]
  },
  {
   "cell_type": "code",
   "execution_count": 453,
   "metadata": {
    "collapsed": false
   },
   "outputs": [
    {
     "data": {
      "text/plain": [
       "(array([ 1.5,  0.5]), array([[ 0.70710678, -0.70710678],\n",
       "        [ 0.70710678,  0.70710678]]))"
      ]
     },
     "execution_count": 453,
     "metadata": {},
     "output_type": "execute_result"
    }
   ],
   "source": [
    "value, vector = np.linalg.eig(np.array([[1, 0.5], [0.5, 1]]))\n",
    "value, vector"
   ]
  },
  {
   "cell_type": "code",
   "execution_count": 454,
   "metadata": {
    "collapsed": false
   },
   "outputs": [
    {
     "data": {
      "text/plain": [
       "0.99999999999999978"
      ]
     },
     "execution_count": 454,
     "metadata": {},
     "output_type": "execute_result"
    }
   ],
   "source": [
    "np.linalg.det(vector)"
   ]
  },
  {
   "cell_type": "code",
   "execution_count": 455,
   "metadata": {
    "collapsed": false
   },
   "outputs": [
    {
     "data": {
      "text/plain": [
       "(array([-0.35355339,  0.35355339]), array([-0.35355339,  0.35355339]))"
      ]
     },
     "execution_count": 455,
     "metadata": {},
     "output_type": "execute_result"
    }
   ],
   "source": [
    "np.array([[1, 0.5], [0.5, 1]]).dot(vector[:,1]), 0.5*(vector[:,1])"
   ]
  },
  {
   "cell_type": "code",
   "execution_count": 456,
   "metadata": {
    "collapsed": false
   },
   "outputs": [
    {
     "data": {
      "text/plain": [
       "(array([ 1.06066017,  1.06066017]), array([ 1.06066017,  1.06066017]))"
      ]
     },
     "execution_count": 456,
     "metadata": {},
     "output_type": "execute_result"
    }
   ],
   "source": [
    "np.array([[1, 0.5], [0.5, 1]]).dot(vector[:,0]), 1.5*(vector[:,0])"
   ]
  },
  {
   "cell_type": "code",
   "execution_count": 457,
   "metadata": {
    "collapsed": false
   },
   "outputs": [
    {
     "data": {
      "text/plain": [
       "(array([ 1.5,  0.5]), array([[ 1.,  0.],\n",
       "        [ 0.,  1.]]))"
      ]
     },
     "execution_count": 457,
     "metadata": {},
     "output_type": "execute_result"
    }
   ],
   "source": [
    "value, vector = np.linalg.eig(np.array([[1.5, 0], [0, 0.5]]))\n",
    "value, vector"
   ]
  },
  {
   "cell_type": "code",
   "execution_count": 458,
   "metadata": {
    "collapsed": false
   },
   "outputs": [
    {
     "data": {
      "text/plain": [
       "1.0"
      ]
     },
     "execution_count": 458,
     "metadata": {},
     "output_type": "execute_result"
    }
   ],
   "source": [
    "np.linalg.det(vector)"
   ]
  },
  {
   "cell_type": "code",
   "execution_count": 459,
   "metadata": {
    "collapsed": false
   },
   "outputs": [
    {
     "data": {
      "text/plain": [
       "array([ 1.,  1.])"
      ]
     },
     "execution_count": 459,
     "metadata": {},
     "output_type": "execute_result"
    }
   ],
   "source": [
    "np.diag(np.array([[1, 0.5], [0.5, 1]]))"
   ]
  },
  {
   "cell_type": "code",
   "execution_count": 460,
   "metadata": {
    "collapsed": false
   },
   "outputs": [
    {
     "data": {
      "text/plain": [
       "array([[1, 0],\n",
       "       [0, 1]])"
      ]
     },
     "execution_count": 460,
     "metadata": {},
     "output_type": "execute_result"
    }
   ],
   "source": [
    "np.diag(np.array([1, 1]))"
   ]
  },
  {
   "cell_type": "code",
   "execution_count": 461,
   "metadata": {
    "collapsed": false
   },
   "outputs": [
    {
     "data": {
      "text/plain": [
       "2.0"
      ]
     },
     "execution_count": 461,
     "metadata": {},
     "output_type": "execute_result"
    }
   ],
   "source": [
    "# Compute the sum of the diagonal elements\n",
    "np.trace(np.array([[1, 0.5], [0.5, 1]]))"
   ]
  },
  {
   "cell_type": "code",
   "execution_count": 462,
   "metadata": {
    "collapsed": false
   },
   "outputs": [
    {
     "data": {
      "text/plain": [
       "array([ 2.,  3.])"
      ]
     },
     "execution_count": 462,
     "metadata": {},
     "output_type": "execute_result"
    }
   ],
   "source": [
    "# Solve the system of equations ``3 * x0 + x1 = 9`` and ``x0 + 2 * x1 = 8``:\n",
    "a = np.array([[3,1], [1,2]])\n",
    "b = np.array([9,8])\n",
    "x = np.linalg.solve(a, b)\n",
    "x"
   ]
  },
  {
   "cell_type": "code",
   "execution_count": 463,
   "metadata": {
    "collapsed": false
   },
   "outputs": [
    {
     "data": {
      "text/plain": [
       "array([[ 0.,  1.],\n",
       "       [ 1.,  1.],\n",
       "       [ 2.,  1.],\n",
       "       [ 3.,  1.]])"
      ]
     },
     "execution_count": 463,
     "metadata": {},
     "output_type": "execute_result"
    }
   ],
   "source": [
    "x = np.array([0, 1, 2, 3])\n",
    "y = np.array([-1, 0.2, 0.9, 2.1])\n",
    "A = np.vstack([x, np.ones(len(x))]).T\n",
    "A"
   ]
  },
  {
   "cell_type": "code",
   "execution_count": 464,
   "metadata": {
    "collapsed": false
   },
   "outputs": [
    {
     "data": {
      "text/plain": [
       "(0.99999999999999989, -0.94999999999999962)"
      ]
     },
     "execution_count": 464,
     "metadata": {},
     "output_type": "execute_result"
    }
   ],
   "source": [
    "p = np.linalg.lstsq(A, y)[0]\n",
    "m, c"
   ]
  },
  {
   "cell_type": "code",
   "execution_count": 465,
   "metadata": {
    "collapsed": false
   },
   "outputs": [
    {
     "data": {
      "image/png": "[encoded data removed]",
      "text/plain": [
       "<matplotlib.figure.Figure at 0x11fd9e80>"
      ]
     },
     "metadata": {},
     "output_type": "display_data"
    }
   ],
   "source": [
    "import matplotlib.pyplot as plt\n",
    "plt.plot(x, y, 'o', label='Original data', markersize=10)\n",
    "plt.plot(x, m*x+c, 'r', label='Fitted line')\n",
    "plt.legend()\n",
    "plt.show()"
   ]
  },
  {
   "cell_type": "code",
   "execution_count": 466,
   "metadata": {
    "collapsed": true
   },
   "outputs": [],
   "source": [
    "### Random Number Generation"
   ]
  },
  {
   "cell_type": "code",
   "execution_count": 467,
   "metadata": {
    "collapsed": false
   },
   "outputs": [
    {
     "data": {
      "text/plain": [
       "array([[ 0.20311695,  0.10223108, -0.42848758, -0.23839667],\n",
       "       [-0.29014384,  1.01447127,  0.92825456, -0.39243235],\n",
       "       [-0.15414798, -0.07406847,  0.16185351, -0.09082215],\n",
       "       [ 0.30937909, -0.70471676, -0.87019931,  0.25925802]])"
      ]
     },
     "execution_count": 467,
     "metadata": {},
     "output_type": "execute_result"
    }
   ],
   "source": [
    "samples = np.random.normal(size = (4, 4))\n",
    "samples"
   ]
  },
  {
   "cell_type": "code",
   "execution_count": 468,
   "metadata": {
    "collapsed": true
   },
   "outputs": [],
   "source": [
    "from random import normalvariate"
   ]
  },
  {
   "cell_type": "code",
   "execution_count": 469,
   "metadata": {
    "collapsed": true
   },
   "outputs": [],
   "source": [
    "N = 1000000"
   ]
  },
  {
   "cell_type": "code",
   "execution_count": 470,
   "metadata": {
    "collapsed": false
   },
   "outputs": [
    {
     "name": "stdout",
     "output_type": "stream",
     "text": [
      "1 loop, best of 3: 2.44 s per loop\n"
     ]
    }
   ],
   "source": [
    "%timeit samples = [normalvariate(0, 1) for _ in range(0, N)]"
   ]
  },
  {
   "cell_type": "code",
   "execution_count": 471,
   "metadata": {
    "collapsed": false
   },
   "outputs": [
    {
     "name": "stdout",
     "output_type": "stream",
     "text": [
      "10 loops, best of 3: 70 ms per loop\n"
     ]
    }
   ],
   "source": [
    "%timeit np.random.normal(size=N)"
   ]
  },
  {
   "cell_type": "code",
   "execution_count": 472,
   "metadata": {
    "collapsed": false
   },
   "outputs": [
    {
     "data": {
      "text/plain": [
       "'\\nseed Seed the random number generator\\npermutation Return a random permutation of a sequence, or return a permuted range\\nshuffle Randomly permute a sequence in place\\nrand Draw samples from a uniform distribution\\nrandint Draw random integers from a given low-to-high range\\nrandn Draw samples from a normal distribution with mean 0 and standard deviation 1 (MATLAB-like interface)\\nbinomial Draw samples a binomial distribution\\nnormal Draw samples from a normal (Gaussian) distribution\\nbeta Draw samples from a beta distribution\\nchisquare Draw samples from a chi-square distribution\\ngamma Draw samples from a gamma distribution\\nuniform Draw samples from a uniform [0, 1) distribution\\n'"
      ]
     },
     "execution_count": 472,
     "metadata": {},
     "output_type": "execute_result"
    }
   ],
   "source": [
    "'''\n",
    "seed Seed the random number generator\n",
    "permutation Return a random permutation of a sequence, or return a permuted range\n",
    "shuffle Randomly permute a sequence in place\n",
    "rand Draw samples from a uniform distribution\n",
    "randint Draw random integers from a given low-to-high range\n",
    "randn Draw samples from a normal distribution with mean 0 and standard deviation 1 (MATLAB-like interface)\n",
    "binomial Draw samples a binomial distribution\n",
    "normal Draw samples from a normal (Gaussian) distribution\n",
    "beta Draw samples from a beta distribution\n",
    "chisquare Draw samples from a chi-square distribution\n",
    "gamma Draw samples from a gamma distribution\n",
    "uniform Draw samples from a uniform [0, 1) distribution\n",
    "'''"
   ]
  },
  {
   "cell_type": "code",
   "execution_count": 473,
   "metadata": {
    "collapsed": false
   },
   "outputs": [],
   "source": [
    "# Built-in method \n",
    "import random\n",
    "position = 0\n",
    "walk = [position]\n",
    "steps = 1000\n",
    "for i in range(0, steps):\n",
    "    step = 1 if random.randint(0, 1) else -1\n",
    "    position += step\n",
    "    walk.append(position)"
   ]
  },
  {
   "cell_type": "code",
   "execution_count": 474,
   "metadata": {
    "collapsed": false
   },
   "outputs": [],
   "source": [
    "# numpy method\n",
    "nsteps = 1000\n",
    "draws = np.random.randint(0, 2, size=nsteps)\n",
    "steps = np.where(draws > 0, 1, -1)\n",
    "walk = steps.cumsum()"
   ]
  },
  {
   "cell_type": "code",
   "execution_count": 475,
   "metadata": {
    "collapsed": false
   },
   "outputs": [
    {
     "data": {
      "text/plain": [
       "(array([ 1,  0,  1,  0, -1, -2, -1, -2, -3, -4, -5, -6, -7, -8, -7, -8, -7,\n",
       "        -6, -5, -4, -3, -4, -5, -4, -3, -2, -1, -2, -3, -2, -1,  0, -1,  0,\n",
       "         1,  2,  3,  4,  5,  6,  7,  8,  7,  6,  5,  6,  7,  8,  9, 10,  9,\n",
       "        10, 11, 12, 11, 12, 11, 12, 13, 14, 13, 12, 11, 12, 13, 14, 13, 14,\n",
       "        15, 14, 15, 14, 15, 16, 15, 16, 15, 14, 15, 16, 15, 16, 17, 18, 19,\n",
       "        18, 17, 18, 19, 18, 19, 20, 19, 18, 19, 18, 17, 18, 19, 18, 17, 18,\n",
       "        17, 16, 17, 18, 19, 18, 17, 18, 17, 16, 17, 18, 17, 16, 15, 16, 15,\n",
       "        16, 17, 16, 15, 14, 13, 14, 15, 16, 17, 16, 17, 18, 19, 20, 19, 20,\n",
       "        21, 22, 23, 22, 21, 22, 21, 22, 21, 22, 23, 22, 21, 22, 23, 22, 21,\n",
       "        22, 23, 24, 23, 24, 23, 22, 23, 24, 25, 26, 27, 28, 29, 30, 31, 32,\n",
       "        33, 34, 35, 34, 33, 32, 33, 34, 33, 32, 31, 30, 31, 32, 31, 30, 31,\n",
       "        30, 29, 28, 27, 28, 29, 30, 31, 30, 31, 30, 29, 28, 29, 30, 29, 28,\n",
       "        27, 26, 27, 28, 29, 28, 29, 28, 29, 30, 29, 30, 31, 32, 31, 32, 31,\n",
       "        32, 33, 34, 35, 34, 33, 34, 35, 34, 35, 34, 33, 32, 33, 32, 31, 32,\n",
       "        33, 34, 35, 34, 33, 34, 35, 36, 37, 36, 37, 38, 37, 38, 37, 36, 35,\n",
       "        34, 33, 34, 35, 36, 35, 34, 35, 34, 35, 36, 35, 36, 37, 38, 39, 38,\n",
       "        39, 40, 39, 40, 39, 40, 41, 42, 43, 42, 41, 40, 41, 42, 41, 40, 41,\n",
       "        40, 39, 40, 39, 40, 39, 40, 39, 40, 41, 42, 41, 42, 43, 44, 43, 42,\n",
       "        43, 44, 43, 42, 43, 44, 45, 46, 45, 44, 43, 42, 43, 42, 41, 42, 43,\n",
       "        42, 41, 40, 41, 40, 39, 38, 37, 36, 35, 36, 37, 36, 35, 34, 35, 36,\n",
       "        35, 36, 35, 34, 33, 32, 33, 34, 35, 34, 33, 32, 33, 32, 33, 34, 33,\n",
       "        32, 31, 30, 31, 30, 31, 30, 31, 32, 33, 34, 33, 32, 31, 30, 31, 30,\n",
       "        29, 28, 27, 28, 27, 26, 27, 28, 29, 28, 29, 28, 27, 26, 25, 26, 25,\n",
       "        24, 23, 24, 25, 26, 27, 26, 25, 26, 27, 26, 25, 26, 27, 26, 27, 26,\n",
       "        27, 28, 27, 26, 27, 26, 25, 26, 25, 24, 25, 26, 25, 24, 25, 26, 27,\n",
       "        26, 25, 24, 25, 26, 27, 28, 29, 30, 31, 32, 33, 34, 33, 34, 35, 34,\n",
       "        33, 34, 33, 34, 33, 32, 33, 34, 33, 32, 31, 32, 33, 34, 35, 36, 35,\n",
       "        36, 37, 38, 39, 40, 39, 38, 37, 38, 39, 38, 37, 36, 37, 38, 39, 40,\n",
       "        39, 38, 37, 38, 37, 36, 35, 36, 37, 38, 37, 36, 35, 36, 35, 34, 33,\n",
       "        34, 35, 36, 37, 36, 35, 36, 37, 38, 39, 40, 39, 38, 39, 40, 41, 42,\n",
       "        41, 42, 41, 42, 41, 42, 43, 42, 43, 44, 43, 44, 45, 44, 43, 42, 41,\n",
       "        40, 39, 38, 37, 36, 37, 38, 37, 38, 37, 36, 37, 36, 35, 36, 35, 34,\n",
       "        35, 34, 33, 34, 33, 34, 35, 34, 33, 34, 33, 32, 31, 32, 31, 32, 33,\n",
       "        32, 31, 30, 29, 30, 29, 28, 27, 28, 29, 28, 29, 28, 29, 30, 31, 32,\n",
       "        31, 30, 31, 30, 31, 30, 29, 30, 29, 30, 29, 30, 29, 30, 31, 32, 31,\n",
       "        32, 33, 32, 33, 34, 35, 36, 37, 36, 37, 38, 37, 38, 37, 36, 35, 36,\n",
       "        37, 36, 35, 34, 35, 36, 35, 34, 33, 34, 33, 32, 33, 34, 35, 34, 35,\n",
       "        36, 37, 38, 37, 38, 39, 38, 37, 38, 39, 40, 39, 38, 37, 36, 35, 34,\n",
       "        33, 34, 35, 36, 37, 38, 37, 38, 39, 40, 41, 42, 41, 42, 41, 40, 39,\n",
       "        38, 39, 38, 37, 36, 37, 38, 37, 36, 35, 34, 33, 32, 31, 30, 31, 32,\n",
       "        33, 34, 35, 36, 37, 38, 37, 38, 39, 38, 37, 36, 37, 38, 37, 36, 37,\n",
       "        36, 35, 36, 35, 36, 35, 34, 35, 34, 33, 34, 35, 34, 35, 36, 35, 34,\n",
       "        35, 36, 37, 36, 35, 34, 33, 32, 33, 32, 33, 34, 33, 32, 33, 32, 31,\n",
       "        30, 31, 32, 31, 32, 31, 30, 31, 30, 31, 32, 33, 32, 33, 32, 33, 34,\n",
       "        33, 34, 35, 34, 35, 36, 37, 36, 35, 34, 35, 36, 37, 36, 35, 34, 33,\n",
       "        32, 31, 32, 33, 34, 33, 34, 35, 34, 33, 34, 33, 34, 35, 34, 33, 34,\n",
       "        35, 34, 33, 32, 33, 34, 33, 34, 33, 34, 35, 36, 35, 34, 33, 32, 33,\n",
       "        34, 33, 32, 31, 32, 33, 34, 35, 34, 35, 34, 35, 36, 35, 34, 33, 34,\n",
       "        33, 34, 35, 36, 37, 38, 37, 38, 39, 38, 37, 36, 35, 34, 35, 34, 35,\n",
       "        36, 37, 36, 37, 38, 37, 36, 35, 36, 37, 38, 37, 38, 37, 36, 37, 38,\n",
       "        39, 38, 37, 38, 39, 38, 39, 38, 37, 38, 37, 36, 37, 36, 35, 36, 35,\n",
       "        36, 35, 36, 35, 36, 35, 34, 33, 32, 31, 30, 29, 30, 31, 32, 33, 34,\n",
       "        33, 32, 33, 32, 31, 32, 31, 32, 31, 32, 33, 34, 33, 34, 33, 34, 35,\n",
       "        36, 35, 36, 37, 36, 35, 36, 37, 38, 39, 40, 39, 38, 39, 40, 39, 40,\n",
       "        39, 38, 39, 40, 41, 40, 41, 42, 41, 42, 41, 40, 41, 42, 41, 40, 41,\n",
       "        42, 43, 44, 45, 46, 47, 46, 45, 46, 47, 48, 47, 46, 45, 44, 43, 42,\n",
       "        41, 42, 43, 44, 45, 46, 45, 46, 47, 48, 47, 48, 49, 50, 51, 52, 51,\n",
       "        50, 51, 52, 53, 54, 55, 54, 53, 52, 51, 50, 49, 50, 51, 52, 53, 52,\n",
       "        53, 54, 55, 56, 57, 56, 57, 56, 55, 54, 53, 54, 53, 54], dtype=int32),\n",
       " -8,\n",
       " 57)"
      ]
     },
     "execution_count": 475,
     "metadata": {},
     "output_type": "execute_result"
    }
   ],
   "source": [
    "walk, walk.min(), walk.max()"
   ]
  },
  {
   "cell_type": "code",
   "execution_count": 478,
   "metadata": {
    "collapsed": false
   },
   "outputs": [
    {
     "data": {
      "text/plain": [
       "49"
      ]
     },
     "execution_count": 478,
     "metadata": {},
     "output_type": "execute_result"
    }
   ],
   "source": [
    "(np.abs(walk) >= 10).argmax()"
   ]
  },
  {
   "cell_type": "code",
   "execution_count": 480,
   "metadata": {
    "collapsed": false
   },
   "outputs": [],
   "source": [
    "nwalks = 5000; nsteps = 1000"
   ]
  },
  {
   "cell_type": "code",
   "execution_count": 481,
   "metadata": {
    "collapsed": true
   },
   "outputs": [],
   "source": [
    "draws = np.random.randint(0, 2, size=(nwalks, nsteps))"
   ]
  },
  {
   "cell_type": "code",
   "execution_count": 482,
   "metadata": {
    "collapsed": true
   },
   "outputs": [],
   "source": [
    "steps = np.where(draws > 0, 1, -1)"
   ]
  },
  {
   "cell_type": "code",
   "execution_count": 483,
   "metadata": {
    "collapsed": true
   },
   "outputs": [],
   "source": [
    "walks = steps.cumsum(1)"
   ]
  },
  {
   "cell_type": "code",
   "execution_count": 484,
   "metadata": {
    "collapsed": false
   },
   "outputs": [
    {
     "data": {
      "text/plain": [
       "array([[ -1,   0,   1, ...,  -2,  -3,  -2],\n",
       "       [  1,   0,  -1, ...,   8,   9,   8],\n",
       "       [ -1,  -2,  -3, ...,   4,   3,   4],\n",
       "       ..., \n",
       "       [  1,   2,   3, ..., -46, -47, -48],\n",
       "       [  1,   0,   1, ...,  44,  43,  42],\n",
       "       [ -1,   0,   1, ..., -14, -13, -14]], dtype=int32)"
      ]
     },
     "execution_count": 484,
     "metadata": {},
     "output_type": "execute_result"
    }
   ],
   "source": [
    "walks"
   ]
  },
  {
   "cell_type": "code",
   "execution_count": 485,
   "metadata": {
    "collapsed": false
   },
   "outputs": [
    {
     "data": {
      "text/plain": [
       "(119, -125)"
      ]
     },
     "execution_count": 485,
     "metadata": {},
     "output_type": "execute_result"
    }
   ],
   "source": [
    "walks.max(), walks.min()"
   ]
  },
  {
   "cell_type": "code",
   "execution_count": 486,
   "metadata": {
    "collapsed": true
   },
   "outputs": [],
   "source": [
    "hits30 = (np.abs(walks) >= 30).any(1)"
   ]
  },
  {
   "cell_type": "code",
   "execution_count": 487,
   "metadata": {
    "collapsed": false
   },
   "outputs": [
    {
     "data": {
      "text/plain": [
       "array([ True,  True, False, ...,  True,  True,  True], dtype=bool)"
      ]
     },
     "execution_count": 487,
     "metadata": {},
     "output_type": "execute_result"
    }
   ],
   "source": [
    "hits30"
   ]
  },
  {
   "cell_type": "code",
   "execution_count": 488,
   "metadata": {
    "collapsed": false
   },
   "outputs": [
    {
     "data": {
      "text/plain": [
       "3406"
      ]
     },
     "execution_count": 488,
     "metadata": {},
     "output_type": "execute_result"
    }
   ],
   "source": [
    "hits30.sum()"
   ]
  },
  {
   "cell_type": "code",
   "execution_count": 491,
   "metadata": {
    "collapsed": false
   },
   "outputs": [
    {
     "data": {
      "text/plain": [
       "(3406, 1000)"
      ]
     },
     "execution_count": 491,
     "metadata": {},
     "output_type": "execute_result"
    }
   ],
   "source": [
    "walks[hits30].shape"
   ]
  },
  {
   "cell_type": "code",
   "execution_count": 494,
   "metadata": {
    "collapsed": true
   },
   "outputs": [],
   "source": [
    "crossing_times = np.abs(walks[hits30] >= 30).argmax(1)"
   ]
  },
  {
   "cell_type": "code",
   "execution_count": 495,
   "metadata": {
    "collapsed": false
   },
   "outputs": [
    {
     "data": {
      "text/plain": [
       "array([  0, 183,   0, ...,   0, 453,   0], dtype=int64)"
      ]
     },
     "execution_count": 495,
     "metadata": {},
     "output_type": "execute_result"
    }
   ],
   "source": [
    "crossing_times"
   ]
  },
  {
   "cell_type": "code",
   "execution_count": 498,
   "metadata": {
    "collapsed": false
   },
   "outputs": [
    {
     "data": {
      "text/plain": [
       "(3406,)"
      ]
     },
     "execution_count": 498,
     "metadata": {},
     "output_type": "execute_result"
    }
   ],
   "source": [
    "crossing_times.shape"
   ]
  },
  {
   "cell_type": "code",
   "execution_count": 499,
   "metadata": {
    "collapsed": false
   },
   "outputs": [
    {
     "data": {
      "text/plain": [
       "258.87228420434525"
      ]
     },
     "execution_count": 499,
     "metadata": {},
     "output_type": "execute_result"
    }
   ],
   "source": [
    "crossing_times.mean()"
   ]
  },
  {
   "cell_type": "code",
   "execution_count": null,
   "metadata": {
    "collapsed": true
   },
   "outputs": [],
   "source": []
  }
 ],
 "metadata": {
  "kernelspec": {
   "display_name": "Python 3",
   "language": "python",
   "name": "python3"
  },
  "language_info": {
   "codemirror_mode": {
    "name": "ipython",
    "version": 3
   },
   "file_extension": ".py",
   "mimetype": "text/x-python",
   "name": "python",
   "nbconvert_exporter": "python",
   "pygments_lexer": "ipython3",
   "version": "3.5.1"
  }
 },
 "nbformat": 4,
 "nbformat_minor": 0
}
